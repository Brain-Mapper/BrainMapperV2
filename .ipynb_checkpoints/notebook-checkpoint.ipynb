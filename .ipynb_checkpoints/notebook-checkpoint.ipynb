{
 "cells": [
  {
   "cell_type": "markdown",
   "metadata": {},
   "source": [
    "### Seeking the mni coordinates \n",
    "I use the file `P3 UL RMN 1.nii` to experiment"
   ]
  },
  {
   "cell_type": "code",
   "execution_count": 10,
   "metadata": {},
   "outputs": [
    {
     "name": "stdout",
     "output_type": "stream",
     "text": [
      "Matrix shape : (197, 233, 189)\n"
     ]
    }
   ],
   "source": [
    "import nibabel as nib\n",
    "img = nib.load(\"C:/Users/Aurélien/PycharmProjects/BrainMapperV2/test/P3 UL RMN 1.nii\")\n",
    "img_data = img.get_fdata()\n",
    "print(\"Matrix shape : {}\".format(img_data.shape))"
   ]
  },
  {
   "cell_type": "code",
   "execution_count": 12,
   "metadata": {},
   "outputs": [
    {
     "name": "stdout",
     "output_type": "stream",
     "text": [
      "Slices on the voxel 41,42,109\n"
     ]
    },
    {
     "data": {
      "image/png": "[encoded data removed]",
      "text/plain": [
       "<Figure size 432x288 with 3 Axes>"
      ]
     },
     "metadata": {
      "needs_background": "light"
     },
     "output_type": "display_data"
    }
   ],
   "source": [
    "import matplotlib.pyplot as plt\n",
    "def show_slices(slices):\n",
    "    fig, axes = plt.subplots(1, len(slices))\n",
    "    for i,slice in enumerate(slices):\n",
    "        axes[i].imshow(slice.T, cmap=\"gray\", origin=\"lower\")\n",
    "\n",
    "#The point is visible when the camera is on 41,142,109\n",
    "slice_0 = img_data[41, :, :]\n",
    "slice_1 = img_data[:, 142, :]\n",
    "slice_2 = img_data[:, :, 109]\n",
    "print(\"Slices on the voxel 41,42,109\")\n",
    "show_slices([slice_0, slice_1, slice_2])"
   ]
  },
  {
   "cell_type": "code",
   "execution_count": 11,
   "metadata": {},
   "outputs": [
    {
     "name": "stdout",
     "output_type": "stream",
     "text": [
      "Coordinates of the point in MNI space : [-57.   8.  37.]\n"
     ]
    }
   ],
   "source": [
    "M = img.affine[:3, :3]\n",
    "abc = img.affine[:3, 3]\n",
    "\n",
    "def f(i, j, k):\n",
    "    \"\"\" Return X,Y,Z coordinates in MNI for i, j, k\"\"\"\n",
    "    return M.dot([i,j,k]) + abc\n",
    "\n",
    "print(\"Coordinates of the point in MNI space : {}\".format(f(41,142,109)))"
   ]
  },
  {
   "cell_type": "markdown",
   "metadata": {},
   "source": [
    "### Source\n",
    "http://nipy.org/nibabel/coordinate_systems.html"
   ]
  }
 ],
 "metadata": {
  "kernelspec": {
   "display_name": "Python 3",
   "language": "python",
   "name": "python3"
  },
  "language_info": {
   "codemirror_mode": {
    "name": "ipython",
    "version": 3
   },
   "file_extension": ".py",
   "mimetype": "text/x-python",
   "name": "python",
   "nbconvert_exporter": "python",
   "pygments_lexer": "ipython3",
   "version": "3.6.7"
  }
 },
 "nbformat": 4,
 "nbformat_minor": 2
}
